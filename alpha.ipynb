import numpy as np
import matplotlib.pyplot as plt

x=np.array(-1,1,0.01)
y=[np.sin(v) for v in x]
fig=plt.figure()
ax=fig.add_subplot(111)
ax.plot(x,y)
plt.show()

