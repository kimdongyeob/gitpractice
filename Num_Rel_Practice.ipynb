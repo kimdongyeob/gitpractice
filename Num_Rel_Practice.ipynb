{
  "nbformat": 4,
  "nbformat_minor": 0,
  "metadata": {
    "colab": {
      "name": "Num_Rel_Practice.ipynb",
      "provenance": [],
      "authorship_tag": "ABX9TyO9ZCUqd54sYV7JG2v383m2",
      "include_colab_link": true
    },
    "kernelspec": {
      "name": "python3",
      "display_name": "Python 3"
    }
  },
  "cells": [
    {
      "cell_type": "markdown",
      "metadata": {
        "id": "view-in-github",
        "colab_type": "text"
      },
      "source": [
        "<a href=\"https://colab.research.google.com/github/kimdongyeob/gitpractice/blob/master/Num_Rel_Practice.ipynb\" target=\"_parent\"><img src=\"https://colab.research.google.com/assets/colab-badge.svg\" alt=\"Open In Colab\"/></a>"
      ]
    },
    {
      "cell_type": "code",
      "metadata": {
        "id": "tAaS37kuGT8E",
        "colab_type": "code",
        "colab": {}
      },
      "source": [
        "import numpy as np\n",
        "import matplotlib.pyplot as plt\n",
        "import pandas as pd\n",
        "import numba"
      ],
      "execution_count": null,
      "outputs": []
    },
    {
      "cell_type": "code",
      "metadata": {
        "id": "vAW0Z3IwGb65",
        "colab_type": "code",
        "colab": {}
      },
      "source": [
        "import scipy"
      ],
      "execution_count": null,
      "outputs": []
    },
    {
      "cell_type": "code",
      "metadata": {
        "id": "msAUlI84GdRd",
        "colab_type": "code",
        "colab": {
          "base_uri": "https://localhost:8080/",
          "height": 406
        },
        "outputId": "225cb9bf-db0f-4f87-9858-f15c0e70592e"
      },
      "source": [
        "!pip install einsteinpy\n",
        "import astropy.units as u"
      ],
      "execution_count": null,
      "outputs": [
        {
          "output_type": "stream",
          "text": [
            "Collecting einsteinpy\n",
            "\u001b[?25l  Downloading https://files.pythonhosted.org/packages/35/bb/4e379b56b8cd089c90511027fea2a7cc54d7a6dc49af9ad66a7f39e99448/einsteinpy-0.3.0-py3-none-any.whl (111kB)\n",
            "\r\u001b[K     |███                             | 10kB 16.3MB/s eta 0:00:01\r\u001b[K     |█████▉                          | 20kB 1.4MB/s eta 0:00:01\r\u001b[K     |████████▉                       | 30kB 1.7MB/s eta 0:00:01\r\u001b[K     |███████████▊                    | 40kB 2.0MB/s eta 0:00:01\r\u001b[K     |██████████████▊                 | 51kB 1.9MB/s eta 0:00:01\r\u001b[K     |█████████████████▋              | 61kB 2.1MB/s eta 0:00:01\r\u001b[K     |████████████████████▋           | 71kB 2.3MB/s eta 0:00:01\r\u001b[K     |███████████████████████▌        | 81kB 2.5MB/s eta 0:00:01\r\u001b[K     |██████████████████████████▌     | 92kB 2.4MB/s eta 0:00:01\r\u001b[K     |█████████████████████████████▍  | 102kB 2.6MB/s eta 0:00:01\r\u001b[K     |████████████████████████████████| 112kB 2.6MB/s \n",
            "\u001b[?25hRequirement already satisfied: plotly>=4.0 in /usr/local/lib/python3.6/dist-packages (from einsteinpy) (4.4.1)\n",
            "Requirement already satisfied: astropy in /usr/local/lib/python3.6/dist-packages (from einsteinpy) (4.0.1.post1)\n",
            "Requirement already satisfied: matplotlib in /usr/local/lib/python3.6/dist-packages (from einsteinpy) (3.2.2)\n",
            "Requirement already satisfied: numba!=0.49.0,>=0.46; implementation_name == \"cpython\" in /usr/local/lib/python3.6/dist-packages (from einsteinpy) (0.48.0)\n",
            "Requirement already satisfied: scipy>=1.0 in /usr/local/lib/python3.6/dist-packages (from einsteinpy) (1.4.1)\n",
            "Requirement already satisfied: numpy in /usr/local/lib/python3.6/dist-packages (from einsteinpy) (1.18.5)\n",
            "Requirement already satisfied: sympy>=1.1 in /usr/local/lib/python3.6/dist-packages (from einsteinpy) (1.1.1)\n",
            "Requirement already satisfied: six in /usr/local/lib/python3.6/dist-packages (from plotly>=4.0->einsteinpy) (1.15.0)\n",
            "Requirement already satisfied: retrying>=1.3.3 in /usr/local/lib/python3.6/dist-packages (from plotly>=4.0->einsteinpy) (1.3.3)\n",
            "Requirement already satisfied: kiwisolver>=1.0.1 in /usr/local/lib/python3.6/dist-packages (from matplotlib->einsteinpy) (1.2.0)\n",
            "Requirement already satisfied: pyparsing!=2.0.4,!=2.1.2,!=2.1.6,>=2.0.1 in /usr/local/lib/python3.6/dist-packages (from matplotlib->einsteinpy) (2.4.7)\n",
            "Requirement already satisfied: cycler>=0.10 in /usr/local/lib/python3.6/dist-packages (from matplotlib->einsteinpy) (0.10.0)\n",
            "Requirement already satisfied: python-dateutil>=2.1 in /usr/local/lib/python3.6/dist-packages (from matplotlib->einsteinpy) (2.8.1)\n",
            "Requirement already satisfied: llvmlite<0.32.0,>=0.31.0dev0 in /usr/local/lib/python3.6/dist-packages (from numba!=0.49.0,>=0.46; implementation_name == \"cpython\"->einsteinpy) (0.31.0)\n",
            "Requirement already satisfied: setuptools in /usr/local/lib/python3.6/dist-packages (from numba!=0.49.0,>=0.46; implementation_name == \"cpython\"->einsteinpy) (49.1.0)\n",
            "Requirement already satisfied: mpmath>=0.19 in /usr/local/lib/python3.6/dist-packages (from sympy>=1.1->einsteinpy) (1.1.0)\n",
            "Installing collected packages: einsteinpy\n",
            "Successfully installed einsteinpy-0.3.0\n"
          ],
          "name": "stdout"
        }
      ]
    },
    {
      "cell_type": "code",
      "metadata": {
        "id": "pSGlUb9-Ee1Y",
        "colab_type": "code",
        "colab": {}
      },
      "source": [
        "import sympy\n",
        "import pytest"
      ],
      "execution_count": null,
      "outputs": []
    },
    {
      "cell_type": "code",
      "metadata": {
        "id": "PcVCmcDxEtby",
        "colab_type": "code",
        "colab": {}
      },
      "source": [
        "from einsteinpy.rays import Shadow\n",
        "from einsteinpy.plotting import ShadowPlotter"
      ],
      "execution_count": null,
      "outputs": []
    },
    {
      "cell_type": "code",
      "metadata": {
        "id": "JA4Q8RS_FAe_",
        "colab_type": "code",
        "colab": {}
      },
      "source": [
        "mass=1*u.kg\n",
        "fov = 30*u.km"
      ],
      "execution_count": null,
      "outputs": []
    },
    {
      "cell_type": "code",
      "metadata": {
        "id": "1OVVIjW-FDv1",
        "colab_type": "code",
        "colab": {
          "base_uri": "https://localhost:8080/",
          "height": 295
        },
        "outputId": "7ff969b9-f760-4ff2-d101-ff6d226345c6"
      },
      "source": [
        "shadow=Shadow(mass=mass, fov=fov, n_rays=1000)\n",
        "obj=ShadowPlotter(shadow=shadow, is_line_plot=True)\n",
        "obj.plot()\n",
        "obj.show()"
      ],
      "execution_count": null,
      "outputs": [
        {
          "output_type": "display_data",
          "data": {
            "image/png": "[encoded data removed]",
            "text/plain": [
              "<Figure size 432x288 with 1 Axes>"
            ]
          },
          "metadata": {
            "tags": [],
            "needs_background": "light"
          }
        }
      ]
    }
  ]
}